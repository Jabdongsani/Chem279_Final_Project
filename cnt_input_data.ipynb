{
 "cells": [
  {
   "cell_type": "code",
   "execution_count": 1,
   "id": "711a3c83",
   "metadata": {},
   "outputs": [
    {
     "name": "stdout",
     "output_type": "stream",
     "text": [
      "(5,5) CNT coordinate file written to cnt_5_5.in\n"
     ]
    }
   ],
   "source": [
    "import math\n",
    "\n",
    "def generate_55_cnt(output_path=\"cnt_5_5.in\"):\n",
    "    # Lattice constant (graphene)\n",
    "    a_cc = 1.42  # C-C bond length in Å\n",
    "    a = a_cc * math.sqrt(3)  # ~2.46 Å\n",
    "\n",
    "    # Chirality\n",
    "    n = m = 5\n",
    "    N_atoms = 20\n",
    "\n",
    "    # Tube radius\n",
    "    R = a / (2 * math.pi) * math.sqrt(3 * (n**2 + n*m + m**2))  # ~3.39 Å\n",
    "\n",
    "    # Unit cell height (repeat length in z)\n",
    "    T = a  # For (n,n) armchair tubes\n",
    "\n",
    "    # Output file\n",
    "    with open(output_path, \"w\") as f:\n",
    "        f.write(f\"{N_atoms} 1\\n\")\n",
    "        f.write(f\"0.0 0.0 {T:.6f}\\n\")  # a1\n",
    "        f.write(f\"0.0 0.0 0.0\\n\")      # a2 (unused in 1D)\n",
    "\n",
    "        for i in range(N_atoms):\n",
    "            theta = 2 * math.pi * i / N_atoms\n",
    "            x = R * math.cos(theta)\n",
    "            y = R * math.sin(theta)\n",
    "            z = (T / 2) * ((-1)**i)  # alternate z to match ring pattern\n",
    "            f.write(f\"6 {x:.6f} {y:.6f} {z:.6f}\\n\")\n",
    "\n",
    "    print(f\"(5,5) CNT coordinate file written to {output_path}\")\n",
    "\n",
    "generate_55_cnt()"
   ]
  },
  {
   "cell_type": "code",
   "execution_count": 2,
   "id": "7c7fab2e",
   "metadata": {},
   "outputs": [
    {
     "name": "stdout",
     "output_type": "stream",
     "text": [
      "(10,0) CNT coordinate file written to cnt_10_0.in\n"
     ]
    }
   ],
   "source": [
    "import math\n",
    "\n",
    "def generate_100_cnt(output_path=\"cnt_10_0.in\"):\n",
    "    # Lattice constant (graphene)\n",
    "    a_cc = 1.42  # C-C bond length in Å\n",
    "    a = a_cc * math.sqrt(3)  # ~2.46 Å\n",
    "\n",
    "    # Chirality\n",
    "    n = 10\n",
    "    m = 0\n",
    "    N_atoms = 20\n",
    "\n",
    "    # Tube radius\n",
    "    R = a / (2 * math.pi) * math.sqrt(3 * (n**2 + n*m + m**2))  # ~3.39 Å\n",
    "\n",
    "    # Unit cell height (repeat length in z)\n",
    "    T = a  # For (n,n) armchair tubes\n",
    "\n",
    "    # Output file\n",
    "    with open(output_path, \"w\") as f:\n",
    "        f.write(f\"{N_atoms} 1\\n\")\n",
    "        f.write(f\"0.0 0.0 {T:.6f}\\n\")  # a1\n",
    "        f.write(f\"0.0 0.0 0.0\\n\")      # a2 (unused in 1D)\n",
    "\n",
    "        for i in range(N_atoms):\n",
    "            theta = 2 * math.pi * i / N_atoms\n",
    "            x = R * math.cos(theta)\n",
    "            y = R * math.sin(theta)\n",
    "            z = (T / 2) * ((-1)**i)  # alternate z to match ring pattern\n",
    "            f.write(f\"6 {x:.6f} {y:.6f} {z:.6f}\\n\")\n",
    "\n",
    "    print(f\"(10,0) CNT coordinate file written to {output_path}\")\n",
    "\n",
    "generate_100_cnt()"
   ]
  },
  {
   "cell_type": "code",
   "execution_count": null,
   "id": "4165534c",
   "metadata": {},
   "outputs": [],
   "source": []
  }
 ],
 "metadata": {
  "kernelspec": {
   "display_name": "msse-python",
   "language": "python",
   "name": "python3"
  },
  "language_info": {
   "codemirror_mode": {
    "name": "ipython",
    "version": 3
   },
   "file_extension": ".py",
   "mimetype": "text/x-python",
   "name": "python",
   "nbconvert_exporter": "python",
   "pygments_lexer": "ipython3",
   "version": "3.11.5"
  }
 },
 "nbformat": 4,
 "nbformat_minor": 5
}
