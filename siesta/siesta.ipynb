{
 "cells": [
  {
   "cell_type": "code",
   "execution_count": 1,
   "id": "aa2a37d3",
   "metadata": {},
   "outputs": [],
   "source": [
    "import os\n",
    "\n",
    "import numpy as np\n",
    "import sisl as si\n",
    "import matplotlib.pyplot as plt\n",
    "\n",
    "%matplotlib inline"
   ]
  },
  {
   "cell_type": "code",
   "execution_count": 2,
   "id": "983c41cc",
   "metadata": {},
   "outputs": [],
   "source": [
    "graphene = si.geom.graphene(1.44)"
   ]
  },
  {
   "cell_type": "code",
   "execution_count": 7,
   "id": "5010a391",
   "metadata": {},
   "outputs": [
    {
     "data": {
      "application/vnd.plotly.v1+json": {
       "config": {
        "plotlyServerURL": "https://plot.ly"
       },
       "data": [
        {
         "line": {
          "color": "gray",
          "width": 1
         },
         "meta": {},
         "mode": "lines",
         "name": "Bonds",
         "opacity": 1,
         "type": "scatter",
         "x": {
          "bdata": "AAAAAAAAAAAI0Npe8GazPwjQ2l7wZsM/DDhIjmgazT8I0Npe8GbTPwqEkXasQNg/DDhIjmga3T8Hdv9SEvrgPwjQ2l7wZuM/CSq2as7T5T8KhJF2rEDoPwzebIKKreo/DDhIjmga7T8MkiOaRofvPwd2/1IS+vA/CCPtWIEw8j8I0Npe8GbzPwh9yGRfnfQ/CSq2as7T9T8K16NwPQr3PwAAAAAAAPh/AAAAAAAAAAAK0Npe8GajvwrQ2l7wZrO/DzhIjmgavb8K0Npe8GbDvwyEkXasQMi/DzhIjmgazb8Jdv9SEvrQvwrQ2l7wZtO/Cyq2as7T1b8MhJF2rEDYvw7ebIKKrdq/DzhIjmga3b8PkiOaRoffvwl2/1IS+uC/CiPtWIEw4r8K0Npe8Gbjvwp9yGRfneS/Cyq2as7T5b8M16NwPQrnvwAAAAAAAPh/AAAAAAAAAAAK0Npe8GajvwrQ2l7wZrO/DzhIjmgavb8K0Npe8GbDvwyEkXasQMi/DzhIjmgazb8Jdv9SEvrQvwrQ2l7wZtO/Cyq2as7T1b8MhJF2rEDYvw7ebIKKrdq/DzhIjmga3b8PkiOaRoffvwl2/1IS+uC/CiPtWIEw4r8K0Npe8Gbjvwp9yGRfneS/Cyq2as7T5b8M16NwPQrnvwAAAAAAAPh/CtejcD0K9z+KrZrzdKX3PwuEkXasQPg/i1qI+ePb+D8LMX98G3f5P4wHdv9SEvo/DN5sgoqt+j+MtGMFwkj7PwyLWoj54/s/jWFRCzF//D8NOEiOaBr9P44OPxGgtf0/DuU1lNdQ/j+OuywXD+z+Pw6SI5pGh/8/SDSNDj8RAECInwjQ2l4AQMgKhJF2rABACHb/UhL6AEBI4XoUrkcBQAAAAAAAAPh/CtejcD0K9z+KrZrzdKX3PwuEkXasQPg/i1qI+ePb+D8LMX98G3f5P4wHdv9SEvo/DN5sgoqt+j+MtGMFwkj7PwyLWoj54/s/jWFRCzF//D8NOEiOaBr9P44OPxGgtf0/DuU1lNdQ/j+OuywXD+z+Pw6SI5pGh/8/SDSNDj8RAECInwjQ2l4AQMgKhJF2rABACHb/UhL6AEBI4XoUrkcBQAAAAAAAAPh/",
          "dtype": "f8"
         },
         "y": {
          "bdata": "AAAAAAAAAAAAAAAAAAAAAAAAAAAAAAAAAAAAAAAAAAAAAAAAAAAAAAAAAAAAAAAAAAAAAAAAAAAAAAAAAAAAAAAAAAAAAAAAAAAAAAAAAAAAAAAAAAAAAAAAAAAAAAAAAAAAAAAAAAAAAAAAAAAAAAAAAAAAAAAAAAAAAAAAAAAAAAAAAAAAAAAAAAAAAAAAAAAAAAAAAAAAAAAAAAAAAAAAAAAAAPh/AAAAAAAAAADoXXjMfs2wv+hdeMx+zcC/3Iy0Mj40yb/oXXjMfs3Qv2J1ln/eANW/3Iy0Mj402b9WpNLlnWfdv+hdeMx+zeC/pWkHpi7n4r9idZZ/3gDlvyCBJVmOGue/3Iy0Mj406b+ZmEMM7k3rv1ak0uWdZ+2/FLBhv02B77/oXXjMfs3wv8bjP7lW2vG/pWkHpi7n8r+E786SBvTzvwAAAAAAAPh/AAAAAAAAAADoXXjMfs2wP+hdeMx+zcA/3Iy0Mj40yT/oXXjMfs3QP2J1ln/eANU/3Iy0Mj402T9WpNLlnWfdP+hdeMx+zeA/pWkHpi7n4j9idZZ/3gDlPyCBJVmOGuc/3Iy0Mj406T+ZmEMM7k3rP1ak0uWdZ+0/FLBhv02B7z/oXXjMfs3wP8bjP7lW2vE/pWkHpi7n8j+E786SBvTzPwAAAAAAAPh/AAAAAAAAAADoXXjMfs2wv+hdeMx+zcC/3Iy0Mj40yb/oXXjMfs3Qv2J1ln/eANW/3Iy0Mj402b9WpNLlnWfdv+hdeMx+zeC/pWkHpi7n4r9idZZ/3gDlvyCBJVmOGue/3Iy0Mj406b+ZmEMM7k3rv1ak0uWdZ+2/FLBhv02B77/oXXjMfs3wv8bjP7lW2vG/pWkHpi7n8r+E786SBvTzvwAAAAAAAPh/AAAAAAAAAADoXXjMfs2wP+hdeMx+zcA/3Iy0Mj40yT/oXXjMfs3QP2J1ln/eANU/3Iy0Mj402T9WpNLlnWfdP+hdeMx+zeA/pWkHpi7n4j9idZZ/3gDlPyCBJVmOGuc/3Iy0Mj406T+ZmEMM7k3rP1ak0uWdZ+0/FLBhv02B7z/oXXjMfs3wP8bjP7lW2vE/pWkHpi7n8j+E786SBvTzPwAAAAAAAPh/",
          "dtype": "f8"
         }
        },
        {
         "marker": {
          "color": "#909090",
          "line": {
           "color": "black",
           "width": 1
          },
          "opacity": 1,
          "size": 10.72
         },
         "meta": {},
         "mode": "markers",
         "name": "Atoms",
         "opacity": 1,
         "type": "scatter",
         "x": {
          "bdata": "AAAAAAAAAAAK16NwPQr3Pw==",
          "dtype": "f8"
         },
         "y": {
          "bdata": "AAAAAAAAAAAAAAAAAAAAAA==",
          "dtype": "f8"
         }
        },
        {
         "meta": {},
         "mode": "lines",
         "name": "Unit cell",
         "type": "scatter",
         "x": {
          "bdata": "AAAAAAAAAABI4XoUrkcBQEjhehSuRxFASOF6FK5HEUBI4XoUrkcBQEjhehSuRwFAAAAAAAAA+H9I4XoUrkcBQAAAAAAAAAAAAAAAAAAAAABI4XoUrkcBQEjhehSuRwFAAAAAAAAAAAAAAAAAAAD4f0jhehSuRxFASOF6FK5HAUAAAAAAAAD4f0jhehSuRxFASOF6FK5HAUA=",
          "dtype": "f8"
         },
         "y": {
          "bdata": "AAAAAAAAAACE786SBvTzPwAAAAAAAAAAAAAAAAAAAACE786SBvTzP4TvzpIG9PM/AAAAAAAA+H+E786SBvTzPwAAAAAAAAAAAAAAAAAAAACE786SBvTzv4TvzpIG9PO/AAAAAAAAAAAAAAAAAAD4fwAAAAAAAAAAhO/Okgb0878AAAAAAAD4fwAAAAAAAAAAhO/Okgb0878=",
          "dtype": "f8"
         }
        }
       ],
       "layout": {
        "scene": {
         "aspectmode": "data",
         "xaxis": {
          "title": {
           "text": "X axis [Ang]"
          }
         },
         "yaxis": {
          "title": {
           "text": "Y axis [Ang]"
          }
         }
        },
        "template": {
         "layout": {
          "hovermode": "closest",
          "paper_bgcolor": "white",
          "plot_bgcolor": "white",
          "scene": {
           "xaxis": {
            "color": "black",
            "gridcolor": "#ccc",
            "gridwidth": 1,
            "linewidth": 1,
            "mirror": true,
            "showgrid": false,
            "showline": true,
            "ticklen": 5,
            "ticks": "outside",
            "ticksuffix": " ",
            "visible": true,
            "zeroline": false,
            "zerolinecolor": "#ccc",
            "zerolinewidth": 1
           },
           "yaxis": {
            "color": "black",
            "gridcolor": "#ccc",
            "gridwidth": 1,
            "linewidth": 1,
            "mirror": true,
            "showgrid": false,
            "showline": true,
            "ticklen": 5,
            "ticks": "outside",
            "ticksuffix": " ",
            "visible": true,
            "zeroline": false,
            "zerolinecolor": "#ccc",
            "zerolinewidth": 1
           },
           "zaxis": {
            "color": "black",
            "gridcolor": "#ccc",
            "gridwidth": 1,
            "linewidth": 1,
            "mirror": true,
            "showgrid": false,
            "showline": true,
            "ticklen": 5,
            "ticks": "outside",
            "ticksuffix": " ",
            "visible": true,
            "zeroline": false,
            "zerolinecolor": "#ccc",
            "zerolinewidth": 1
           }
          },
          "xaxis": {
           "color": "black",
           "gridcolor": "#ccc",
           "gridwidth": 1,
           "linewidth": 1,
           "mirror": true,
           "showgrid": false,
           "showline": true,
           "ticklen": 5,
           "ticks": "outside",
           "ticksuffix": " ",
           "visible": true,
           "zeroline": false,
           "zerolinecolor": "#ccc",
           "zerolinewidth": 1
          },
          "yaxis": {
           "color": "black",
           "gridcolor": "#ccc",
           "gridwidth": 1,
           "linewidth": 1,
           "mirror": true,
           "showgrid": false,
           "showline": true,
           "ticklen": 5,
           "ticks": "outside",
           "ticksuffix": " ",
           "visible": true,
           "zeroline": false,
           "zerolinecolor": "#ccc",
           "zerolinewidth": 1
          }
         }
        },
        "xaxis": {
         "scaleanchor": "y",
         "scaleratio": 1,
         "title": {
          "text": "X axis [Ang]"
         }
        },
        "yaxis": {
         "title": {
          "text": "Y axis [Ang]"
         }
        }
       }
      }
     },
     "metadata": {},
     "output_type": "display_data"
    }
   ],
   "source": [
    "graphene.plot(axes=\"xy\")"
   ]
  },
  {
   "cell_type": "code",
   "execution_count": 8,
   "id": "cef4c82b",
   "metadata": {},
   "outputs": [
    {
     "name": "stdout",
     "output_type": "stream",
     "text": [
      "None\n"
     ]
    }
   ],
   "source": [
    "fdf = si.get_sile(\"graphene.fdf\")\n",
    "H = fdf.read_hamiltonian()\n",
    "print(H)"
   ]
  },
  {
   "cell_type": "code",
   "execution_count": null,
   "id": "bbdc538b",
   "metadata": {},
   "outputs": [],
   "source": []
  }
 ],
 "metadata": {
  "kernelspec": {
   "display_name": "parabilis-ucb-msse",
   "language": "python",
   "name": "python3"
  },
  "language_info": {
   "codemirror_mode": {
    "name": "ipython",
    "version": 3
   },
   "file_extension": ".py",
   "mimetype": "text/x-python",
   "name": "python",
   "nbconvert_exporter": "python",
   "pygments_lexer": "ipython3",
   "version": "3.10.16"
  }
 },
 "nbformat": 4,
 "nbformat_minor": 5
}
